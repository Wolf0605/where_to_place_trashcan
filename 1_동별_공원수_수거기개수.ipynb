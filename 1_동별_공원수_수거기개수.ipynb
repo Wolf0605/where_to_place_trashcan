{
  "nbformat": 4,
  "nbformat_minor": 0,
  "metadata": {
    "colab": {
      "name": "1. 동별_공원수_수거기개수.ipynb",
      "provenance": [],
      "collapsed_sections": []
    },
    "kernelspec": {
      "name": "python3",
      "display_name": "Python 3"
    },
    "language_info": {
      "name": "python"
    }
  },
  "cells": [
    {
      "cell_type": "markdown",
      "metadata": {
        "id": "qzJ_EDGHsa6Q"
      },
      "source": [
        "# 1. 동별 인구수에 따라 최적의 수거기 수 결정하기"
      ]
    },
    {
      "cell_type": "code",
      "metadata": {
        "colab": {
          "base_uri": "https://localhost:8080/"
        },
        "id": "9Fh8BVJH3yWR",
        "outputId": "fea4d433-a204-4a6d-fda6-a638950ba36a"
      },
      "source": [
        "import pandas as pd\n",
        "import copy\n",
        "\n",
        "# 광양시 동별인구수 데이터 불러오기\n",
        "df = pd.read_csv('/content/11.광양시_동별인구수_세대수.csv')\n",
        "\n",
        "# deep copy로 서로 다른 주소로 저장\n",
        "remove_gumho_df = copy.deepcopy(df)\n",
        "\n",
        "# 금호동 제거\n",
        "geomho = remove_gumho_df.iloc[10]\n",
        "remove_gumho_df.drop(remove_gumho_df.index[(remove_gumho_df['emd_nm'] == '금호동')], axis=0, inplace=True)\n",
        "remove_gumho_df.head()\n",
        "\n",
        "# 동 인구수에 따라 수거기 수 나누기\n",
        "machine = 50 - 12\n",
        "dong = len(remove_gumho_df) # 전체 동 수\n",
        "sum_2017 = sum(remove_gumho_df['total_pop_2017']) # 전체 인구 수\n",
        "\n",
        "a = []\n",
        "percent = []\n",
        "for i in range(dong):\n",
        "  percent += [(remove_gumho_df.iloc[i][1] * (machine / sum_2017))]\n",
        "  a += [(round(remove_gumho_df.iloc[i][1] * (machine / sum_2017)))]\n",
        "\n",
        "  if a[i] > 10:\n",
        "    a[i] = a[i]-1\n",
        "a.insert(10, 12)\n",
        "\n",
        "print(f'===== 동별 수거기 수 리스트 =====\\n {a}')\n",
        "\n",
        "# 원본에 '수거기수' 컬럼 추가하기\n",
        "df[\"수거기수\"] = a\n",
        "df[\"수거기수\"]"
      ],
      "execution_count": 3,
      "outputs": [
        {
          "output_type": "stream",
          "name": "stdout",
          "text": [
            "===== 동별 수거기 수 리스트 =====\n",
            " [12, 1, 1, 1, 1, 1, 1, 1, 15, 3, 12, 1]\n"
          ]
        },
        {
          "output_type": "execute_result",
          "data": {
            "text/plain": [
              "0     12\n",
              "1      1\n",
              "2      1\n",
              "3      1\n",
              "4      1\n",
              "5      1\n",
              "6      1\n",
              "7      1\n",
              "8     15\n",
              "9      3\n",
              "10    12\n",
              "11     1\n",
              "Name: 수거기수, dtype: int64"
            ]
          },
          "metadata": {},
          "execution_count": 3
        }
      ]
    },
    {
      "cell_type": "markdown",
      "metadata": {
        "id": "JMh5TGbDshYM"
      },
      "source": [
        "# 2. 광양시 동별 공원 수 알아보기"
      ]
    },
    {
      "cell_type": "code",
      "metadata": {
        "colab": {
          "base_uri": "https://localhost:8080/"
        },
        "id": "0hdnir9h7wsz",
        "outputId": "230e3bdc-293f-4276-c61f-c9addae906a0"
      },
      "source": [
        "# 동별 공원 정보 데이터 불러오기\n",
        "df2 = pd.read_csv('/content/전라남도_광양시_도시공원정보_20200928_1601253261583_19062.csv', encoding = 'cp949')\n",
        "\n",
        "# 동별 공원 수 분포 알아보기\n",
        "# emd_nm : 동 이름\n",
        "# 중동, 마동 → 중마동\n",
        "all = {}\n",
        "for i in df['emd_nm']:\n",
        "  all[str(i)] = []\n",
        "\n",
        "for idx in range(len(df2)):\n",
        "  if '중동' in df2['소재지도로명주소'][idx] :\n",
        "    all['중마동'].append(df2['소재지도로명주소'][idx])\n",
        "\n",
        "  elif '마동' in df2['소재지도로명주소'][idx] :\n",
        "    all['중마동'].append(df2['소재지도로명주소'][idx])\n",
        "  \n",
        "  for emd in df['emd_nm']:\n",
        "    if emd in df2['소재지도로명주소'][idx] :\n",
        "      all[emd].append(df2['소재지도로명주소'][idx])\n",
        "\n",
        "print(\"===== 동별 공원 수 =====\")\n",
        "park = []\n",
        "for i in df['emd_nm']:\n",
        "  print(f'{i} : ', len(all[i]))\n",
        "  park.append(len(all[i]))"
      ],
      "execution_count": 5,
      "outputs": [
        {
          "output_type": "stream",
          "name": "stdout",
          "text": [
            "===== 동별 공원 수 =====\n",
            "광양읍 :  38\n",
            "봉강면 :  0\n",
            "옥룡면 :  0\n",
            "옥곡면 :  3\n",
            "진상면 :  2\n",
            "진월면 :  1\n",
            "다압면 :  0\n",
            "골약동 :  0\n",
            "중마동 :  36\n",
            "광영동 :  10\n",
            "금호동 :  0\n",
            "태인동 :  4\n"
          ]
        }
      ]
    },
    {
      "cell_type": "markdown",
      "metadata": {
        "id": "cndvxOXYspgY"
      },
      "source": [
        "# 3. 동별로 공원 총 면적 알아보기"
      ]
    },
    {
      "cell_type": "code",
      "metadata": {
        "colab": {
          "base_uri": "https://localhost:8080/"
        },
        "id": "YOgpgwU0pfYS",
        "outputId": "9e283139-df7c-48dc-be60-c3be832d73cf"
      },
      "source": [
        "# 동별로 공원 면적 합 구하기\n",
        "sum_park = {}\n",
        "for i in df['emd_nm']:\n",
        "  sum_park[str(i)] = []\n",
        "\n",
        "for idx in range(len(df2)):\n",
        "  if '중동' in df2['소재지도로명주소'][idx] :\n",
        "    sum_park['중마동'].append(df2['공원면적'][idx])\n",
        "\n",
        "  elif '마동' in df2['소재지도로명주소'][idx] :\n",
        "    sum_park['중마동'].append(df2['공원면적'][idx])\n",
        "  \n",
        "  for emd in df['emd_nm']:\n",
        "    if emd in df2['소재지도로명주소'][idx] :\n",
        "      sum_park[emd].append(df2['공원면적'][idx])\n",
        "park_round = []\n",
        "for i in df['emd_nm']:\n",
        "  print(f'{i} : ', round(sum(sum_park[i])))\n",
        "  park_round.append(round(sum(sum_park[i])))\n",
        "\n",
        "print(\"\\n공원평 수 :\", park_round)\n",
        "\n",
        "# 원본에 '공원수', '공원평수' 컬럼 추가하기\n",
        "df['공원수'] = park\n",
        "df['공원평수'] = park_round"
      ],
      "execution_count": 6,
      "outputs": [
        {
          "output_type": "stream",
          "name": "stdout",
          "text": [
            "광양읍 :  372966\n",
            "봉강면 :  0\n",
            "옥룡면 :  0\n",
            "옥곡면 :  31836\n",
            "진상면 :  49485\n",
            "진월면 :  3000\n",
            "다압면 :  0\n",
            "골약동 :  0\n",
            "중마동 :  841608\n",
            "광영동 :  36169\n",
            "금호동 :  0\n",
            "태인동 :  101783\n",
            "\n",
            "공원평 수 : [372966, 0, 0, 31836, 49485, 3000, 0, 0, 841608, 36169, 0, 101783]\n"
          ]
        }
      ]
    },
    {
      "cell_type": "markdown",
      "metadata": {
        "id": "3Tq6aw4RtLP7"
      },
      "source": [
        "# 4. 필요한 컬럼만 뽑아서 확인하기"
      ]
    },
    {
      "cell_type": "code",
      "metadata": {
        "colab": {
          "base_uri": "https://localhost:8080/",
          "height": 418
        },
        "id": "bRMPLj67aJpo",
        "outputId": "c1c97166-5704-4f2b-efef-924c73a66bc3"
      },
      "source": [
        "# (인구수, 수거기수, 공원수, 공원총평수)\n",
        "df_fin = df[['emd_nm', 'total_pop_2017', '수거기수', '공원수', '공원평수']]\n",
        "df_fin.columns = ['동', '인구수', '수거기수', '공원수', '공원총평수']\n",
        "df_fin.sort_values('인구수', ascending=False)"
      ],
      "execution_count": 7,
      "outputs": [
        {
          "output_type": "execute_result",
          "data": {
            "text/html": [
              "<div>\n",
              "<style scoped>\n",
              "    .dataframe tbody tr th:only-of-type {\n",
              "        vertical-align: middle;\n",
              "    }\n",
              "\n",
              "    .dataframe tbody tr th {\n",
              "        vertical-align: top;\n",
              "    }\n",
              "\n",
              "    .dataframe thead th {\n",
              "        text-align: right;\n",
              "    }\n",
              "</style>\n",
              "<table border=\"1\" class=\"dataframe\">\n",
              "  <thead>\n",
              "    <tr style=\"text-align: right;\">\n",
              "      <th></th>\n",
              "      <th>동</th>\n",
              "      <th>인구수</th>\n",
              "      <th>수거기수</th>\n",
              "      <th>공원수</th>\n",
              "      <th>공원총평수</th>\n",
              "    </tr>\n",
              "  </thead>\n",
              "  <tbody>\n",
              "    <tr>\n",
              "      <th>8</th>\n",
              "      <td>중마동</td>\n",
              "      <td>58654</td>\n",
              "      <td>15</td>\n",
              "      <td>36</td>\n",
              "      <td>841608</td>\n",
              "    </tr>\n",
              "    <tr>\n",
              "      <th>0</th>\n",
              "      <td>광양읍</td>\n",
              "      <td>50261</td>\n",
              "      <td>12</td>\n",
              "      <td>38</td>\n",
              "      <td>372966</td>\n",
              "    </tr>\n",
              "    <tr>\n",
              "      <th>10</th>\n",
              "      <td>금호동</td>\n",
              "      <td>13478</td>\n",
              "      <td>12</td>\n",
              "      <td>0</td>\n",
              "      <td>0</td>\n",
              "    </tr>\n",
              "    <tr>\n",
              "      <th>9</th>\n",
              "      <td>광영동</td>\n",
              "      <td>12565</td>\n",
              "      <td>3</td>\n",
              "      <td>10</td>\n",
              "      <td>36169</td>\n",
              "    </tr>\n",
              "    <tr>\n",
              "      <th>2</th>\n",
              "      <td>옥룡면</td>\n",
              "      <td>3218</td>\n",
              "      <td>1</td>\n",
              "      <td>0</td>\n",
              "      <td>0</td>\n",
              "    </tr>\n",
              "    <tr>\n",
              "      <th>3</th>\n",
              "      <td>옥곡면</td>\n",
              "      <td>3204</td>\n",
              "      <td>1</td>\n",
              "      <td>3</td>\n",
              "      <td>31836</td>\n",
              "    </tr>\n",
              "    <tr>\n",
              "      <th>4</th>\n",
              "      <td>진상면</td>\n",
              "      <td>3158</td>\n",
              "      <td>1</td>\n",
              "      <td>2</td>\n",
              "      <td>49485</td>\n",
              "    </tr>\n",
              "    <tr>\n",
              "      <th>5</th>\n",
              "      <td>진월면</td>\n",
              "      <td>3132</td>\n",
              "      <td>1</td>\n",
              "      <td>1</td>\n",
              "      <td>3000</td>\n",
              "    </tr>\n",
              "    <tr>\n",
              "      <th>1</th>\n",
              "      <td>봉강면</td>\n",
              "      <td>2318</td>\n",
              "      <td>1</td>\n",
              "      <td>0</td>\n",
              "      <td>0</td>\n",
              "    </tr>\n",
              "    <tr>\n",
              "      <th>11</th>\n",
              "      <td>태인동</td>\n",
              "      <td>2105</td>\n",
              "      <td>1</td>\n",
              "      <td>4</td>\n",
              "      <td>101783</td>\n",
              "    </tr>\n",
              "    <tr>\n",
              "      <th>7</th>\n",
              "      <td>골약동</td>\n",
              "      <td>1888</td>\n",
              "      <td>1</td>\n",
              "      <td>0</td>\n",
              "      <td>0</td>\n",
              "    </tr>\n",
              "    <tr>\n",
              "      <th>6</th>\n",
              "      <td>다압면</td>\n",
              "      <td>1876</td>\n",
              "      <td>1</td>\n",
              "      <td>0</td>\n",
              "      <td>0</td>\n",
              "    </tr>\n",
              "  </tbody>\n",
              "</table>\n",
              "</div>"
            ],
            "text/plain": [
              "      동    인구수  수거기수  공원수   공원총평수\n",
              "8   중마동  58654    15   36  841608\n",
              "0   광양읍  50261    12   38  372966\n",
              "10  금호동  13478    12    0       0\n",
              "9   광영동  12565     3   10   36169\n",
              "2   옥룡면   3218     1    0       0\n",
              "3   옥곡면   3204     1    3   31836\n",
              "4   진상면   3158     1    2   49485\n",
              "5   진월면   3132     1    1    3000\n",
              "1   봉강면   2318     1    0       0\n",
              "11  태인동   2105     1    4  101783\n",
              "7   골약동   1888     1    0       0\n",
              "6   다압면   1876     1    0       0"
            ]
          },
          "metadata": {},
          "execution_count": 7
        }
      ]
    },
    {
      "cell_type": "markdown",
      "metadata": {
        "id": "sN1JgwQjwRKu"
      },
      "source": [
        "# 5. 동별 공원의 위도, 경도 알아보기"
      ]
    },
    {
      "cell_type": "code",
      "metadata": {
        "id": "8U2Rt7o4q86r",
        "colab": {
          "base_uri": "https://localhost:8080/"
        },
        "outputId": "81347579-ce48-441a-cc74-20b661d3775b"
      },
      "source": [
        "# 위도\n",
        "park_sort_lat = {}\n",
        "for i in df['emd_nm']:\n",
        "  park_sort_lat[str(i)] = []\n",
        "\n",
        "for idx in range(len(df2)):\n",
        "  if '중동' in df2['소재지도로명주소'][idx] :\n",
        "    park_sort_lat['중마동'].append(df2['위도'][idx])\n",
        "\n",
        "  elif '마동' in df2['소재지도로명주소'][idx] :\n",
        "    park_sort_lat['중마동'].append(df2['위도'][idx])\n",
        "  \n",
        "  for emd in df['emd_nm']:\n",
        "    if emd in df2['소재지도로명주소'][idx] :\n",
        "      park_sort_lat[emd].append(df2['위도'][idx])\n",
        "\n",
        "# 경도\n",
        "park_sort_lon = {}\n",
        "for i in df['emd_nm']:\n",
        "  park_sort_lon[str(i)] = []\n",
        "\n",
        "for idx in range(len(df2)):\n",
        "  if '중동' in df2['소재지도로명주소'][idx] :\n",
        "    park_sort_lon['중마동'].append(df2['경도'][idx])\n",
        "\n",
        "  elif '마동' in df2['소재지도로명주소'][idx] :\n",
        "    park_sort_lon['중마동'].append(df2['경도'][idx])\n",
        "  \n",
        "  for emd in df['emd_nm']:\n",
        "    if emd in df2['소재지도로명주소'][idx] :\n",
        "      park_sort_lon[emd].append(df2['경도'][idx])\n",
        "\n",
        "# 위도, 경도\n",
        "location = {}\n",
        "for i in df['emd_nm']:\n",
        "  location[str(i)] = []\n",
        "  print(\"=\")\n",
        "\n",
        "  for x,y in zip(park_sort_lat[i], park_sort_lon[i]):\n",
        "    location[i].append([x,y])\n",
        "  print(f'{i} : {location[i]}')"
      ],
      "execution_count": 8,
      "outputs": [
        {
          "output_type": "stream",
          "name": "stdout",
          "text": [
            "=\n",
            "광양읍 : [[34.985305, 127.58640449999999], [34.96183916, 127.56896870450001], [34.93650533, 127.6050808], [34.9820167, 127.579449], [34.980354, 127.580257], [34.978609000000006, 127.579518], [34.97628182, 127.577155], [34.98062277, 127.577627], [34.97822508, 127.576356], [34.977565999999996, 127.57454399999999], [34.970081, 127.5795669], [34.97160856, 127.580145], [34.973490999999996, 127.5802024], [34.973563, 127.5774187], [34.975072, 127.578946], [34.977988639, 127.581128], [34.978021999999996, 127.58556785629999], [34.9679219604, 127.58281299999999], [34.9692065713, 127.5871528914], [34.9641818396, 127.5729013], [34.9638608904, 127.57552240000001], [34.965804999999996, 127.567649], [34.967240999999994, 127.56323700000002], [34.9661912933, 127.5691870198], [34.976637, 127.60826100000001], [34.97312129, 127.6073218], [34.971245, 127.6076759], [34.970549, 127.611806], [34.969177, 127.6094811], [34.9661912933, 127.5691870198], [34.976760999999996, 127.586496], [34.974555, 127.58888400000001], [34.97407082, 127.591474], [34.972345000000004, 127.585151], [34.97785993, 127.59112900000001], [34.968200991399996, 127.5623968694], [34.95334717, 127.602769], [34.951374, 127.60318190000001]]\n",
            "=\n",
            "봉강면 : []\n",
            "=\n",
            "옥룡면 : []\n",
            "=\n",
            "옥곡면 : [[34.97285372, 127.725775], [34.984496, 127.70857600000001], [34.97550225, 127.71833500000001]]\n",
            "=\n",
            "진상면 : [[35.0448708212, 127.7205694198], [35.03224598, 127.72078059999998]]\n",
            "=\n",
            "진월면 : [[34.9790287202, 127.7608388]]\n",
            "=\n",
            "다압면 : []\n",
            "=\n",
            "골약동 : []\n",
            "=\n",
            "중마동 : [[34.9354661835, 127.6914483105], [34.9527677986, 127.69350630000001], [34.942902000000004, 127.69091100000001], [34.920567999999996, 127.6936608], [34.942506, 127.69908799999999], [34.941952, 127.686472], [34.952258, 127.68955700000001], [34.943154, 127.7024978888], [34.940568, 127.700728], [34.935094, 127.69932800000001], [34.932673, 127.6993003], [34.949536, 127.689696], [34.92870861, 127.6983504], [34.946785, 127.68796499999999], [34.955341, 127.691841], [34.94953567, 127.7187912], [34.94953567, 127.7187912], [34.9527677986, 127.69350630000001], [34.952915999999995, 127.6965105], [34.941715, 127.702202], [34.947146999999994, 127.69728700000002], [34.949536, 127.689696], [34.952258, 127.68955700000001], [34.943749, 127.68804499999999], [34.9369437057, 127.6963411585], [34.944878, 127.688057], [34.951226, 127.69619809999999], [34.942721999999996, 127.69681200000001], [34.955125, 127.69001599999999], [34.938022, 127.695527], [34.947707, 127.6975019], [34.939159000000004, 127.695926], [34.950503999999995, 127.68931699999999], [34.9561775233, 127.7107249701], [34.94953567, 127.7187912], [34.9450605141, 127.69940425440001]]\n",
            "=\n",
            "광영동 : [[34.960923696100004, 127.71916499999999], [34.96073014, 127.72182310950001], [34.9649551023, 127.7182486276], [34.9654534471, 127.71570700000001], [34.961096999999995, 127.72677900000001], [34.966232, 127.7119273], [34.951946, 127.724043], [34.95103075, 127.7245834], [34.94829664, 127.7214053], [34.9595852701, 127.7255047323]]\n",
            "=\n",
            "금호동 : []\n",
            "=\n",
            "태인동 : [[34.9466550834, 127.76805448709999], [34.95947371, 127.758293], [34.95144026, 127.75964599999999], [34.9417161744, 127.7532817013]]\n"
          ]
        }
      ]
    },
    {
      "cell_type": "code",
      "metadata": {
        "id": "d-wzOz6uSPuL"
      },
      "source": [
        ""
      ],
      "execution_count": null,
      "outputs": []
    }
  ]
}